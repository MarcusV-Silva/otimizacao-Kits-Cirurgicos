{
  "cells": [
    {
      "cell_type": "markdown",
      "metadata": {},
      "source": [
        "# Neste notebook estão implementadas as funções que determinam as configurações dos Kits por meio do K-Means"
      ]
    },
    {
      "cell_type": "code",
      "execution_count": 1,
      "metadata": {
        "id": "gdkEuZjd-5vD"
      },
      "outputs": [],
      "source": [
        "from sklearn.cluster import KMeans\n",
        "from functools import reduce\n",
        "import pandas as pd\n",
        "import numpy as np\n",
        "import math\n",
        "import re"
      ]
    },
    {
      "cell_type": "code",
      "execution_count": 2,
      "metadata": {
        "id": "3LLc9I-x-5vE"
      },
      "outputs": [],
      "source": [
        "path = '/home/marcussilva/Documents/bases/'"
      ]
    },
    {
      "cell_type": "markdown",
      "metadata": {
        "id": "H8TkEMyn7ANn"
      },
      "source": [
        "### Preparando os dados"
      ]
    },
    {
      "cell_type": "code",
      "execution_count": 3,
      "metadata": {
        "id": "PjqsLgNO-5vF"
      },
      "outputs": [],
      "source": [
        "dt = pd.read_csv(path + 'dadosGenéricos.csv')"
      ]
    },
    {
      "cell_type": "code",
      "execution_count": 4,
      "metadata": {
        "id": "25sVH_C7xZ9H",
        "outputId": "68f8d012-b0d7-4b2f-8c9b-d7a24a50ffb4"
      },
      "outputs": [
        {
          "data": {
            "text/html": [
              "<div>\n",
              "<style scoped>\n",
              "    .dataframe tbody tr th:only-of-type {\n",
              "        vertical-align: middle;\n",
              "    }\n",
              "\n",
              "    .dataframe tbody tr th {\n",
              "        vertical-align: top;\n",
              "    }\n",
              "\n",
              "    .dataframe thead th {\n",
              "        text-align: right;\n",
              "    }\n",
              "</style>\n",
              "<table border=\"1\" class=\"dataframe\">\n",
              "  <thead>\n",
              "    <tr style=\"text-align: right;\">\n",
              "      <th></th>\n",
              "      <th>CD_CONVENIO</th>\n",
              "      <th>NM_CONVENIO</th>\n",
              "      <th>CD_AVISO_CIRURGIA</th>\n",
              "      <th>CD_CIRURGIA_AVISO</th>\n",
              "      <th>NOVO_CD_CIRURGIA</th>\n",
              "      <th>DS_CIRURGIA</th>\n",
              "      <th>SN_PRINCIPAL</th>\n",
              "      <th>CD_CID</th>\n",
              "      <th>DS_CID</th>\n",
              "      <th>NOVO_CD_ESPECIALIDADE</th>\n",
              "      <th>...</th>\n",
              "      <th>NOVO_CD_ESPECIE_MESTRE</th>\n",
              "      <th>DS_ESPECIE_MESTRE</th>\n",
              "      <th>NOVO_CD_CLASSE_MESTRE</th>\n",
              "      <th>DS_CLASSE_MESTRE</th>\n",
              "      <th>NOVO_CD_SUB_CLA_MESTRE</th>\n",
              "      <th>DS_SUB_CLA_MESTRE</th>\n",
              "      <th>DT_REALIZACAO</th>\n",
              "      <th>QT_MOVIMENTACAO</th>\n",
              "      <th>ANO_REALIZACAO</th>\n",
              "      <th>ANO_MES_REALIZACAO</th>\n",
              "    </tr>\n",
              "  </thead>\n",
              "  <tbody>\n",
              "    <tr>\n",
              "      <th>0</th>\n",
              "      <td>COV379</td>\n",
              "      <td>Convenio 0</td>\n",
              "      <td>AVC776</td>\n",
              "      <td>CAV731</td>\n",
              "      <td>NCIR412</td>\n",
              "      <td>Cirurgia 0</td>\n",
              "      <td>S</td>\n",
              "      <td>CID994</td>\n",
              "      <td>CID 0</td>\n",
              "      <td>ESP371</td>\n",
              "      <td>...</td>\n",
              "      <td>ESPM584</td>\n",
              "      <td>Especie Mestre 0</td>\n",
              "      <td>CLAM988</td>\n",
              "      <td>Classe Mestre 0</td>\n",
              "      <td>SUBCLAM925</td>\n",
              "      <td>Subclasse Mestre 0</td>\n",
              "      <td>2020-08-01</td>\n",
              "      <td>47</td>\n",
              "      <td>2024</td>\n",
              "      <td>2024-01</td>\n",
              "    </tr>\n",
              "    <tr>\n",
              "      <th>1</th>\n",
              "      <td>COV839</td>\n",
              "      <td>Convenio 1</td>\n",
              "      <td>AVC517</td>\n",
              "      <td>CAV970</td>\n",
              "      <td>NCIR382</td>\n",
              "      <td>Cirurgia 1</td>\n",
              "      <td>N</td>\n",
              "      <td>CID787</td>\n",
              "      <td>CID 1</td>\n",
              "      <td>ESP885</td>\n",
              "      <td>...</td>\n",
              "      <td>ESPM375</td>\n",
              "      <td>Especie Mestre 1</td>\n",
              "      <td>CLAM629</td>\n",
              "      <td>Classe Mestre 1</td>\n",
              "      <td>SUBCLAM933</td>\n",
              "      <td>Subclasse Mestre 1</td>\n",
              "      <td>2020-07-13</td>\n",
              "      <td>9</td>\n",
              "      <td>2020</td>\n",
              "      <td>2024-05</td>\n",
              "    </tr>\n",
              "    <tr>\n",
              "      <th>2</th>\n",
              "      <td>COV828</td>\n",
              "      <td>Convenio 2</td>\n",
              "      <td>AVC618</td>\n",
              "      <td>CAV197</td>\n",
              "      <td>NCIR866</td>\n",
              "      <td>Cirurgia 2</td>\n",
              "      <td>S</td>\n",
              "      <td>CID549</td>\n",
              "      <td>CID 2</td>\n",
              "      <td>ESP522</td>\n",
              "      <td>...</td>\n",
              "      <td>ESPM206</td>\n",
              "      <td>Especie Mestre 2</td>\n",
              "      <td>CLAM158</td>\n",
              "      <td>Classe Mestre 2</td>\n",
              "      <td>SUBCLAM356</td>\n",
              "      <td>Subclasse Mestre 2</td>\n",
              "      <td>2022-01-11</td>\n",
              "      <td>23</td>\n",
              "      <td>2022</td>\n",
              "      <td>2022-04</td>\n",
              "    </tr>\n",
              "    <tr>\n",
              "      <th>3</th>\n",
              "      <td>COV536</td>\n",
              "      <td>Convenio 3</td>\n",
              "      <td>AVC669</td>\n",
              "      <td>CAV467</td>\n",
              "      <td>NCIR744</td>\n",
              "      <td>Cirurgia 3</td>\n",
              "      <td>N</td>\n",
              "      <td>CID511</td>\n",
              "      <td>CID 3</td>\n",
              "      <td>ESP187</td>\n",
              "      <td>...</td>\n",
              "      <td>ESPM214</td>\n",
              "      <td>Especie Mestre 3</td>\n",
              "      <td>CLAM380</td>\n",
              "      <td>Classe Mestre 3</td>\n",
              "      <td>SUBCLAM179</td>\n",
              "      <td>Subclasse Mestre 3</td>\n",
              "      <td>2023-06-27</td>\n",
              "      <td>85</td>\n",
              "      <td>2022</td>\n",
              "      <td>2024-07</td>\n",
              "    </tr>\n",
              "    <tr>\n",
              "      <th>4</th>\n",
              "      <td>COV607</td>\n",
              "      <td>Convenio 4</td>\n",
              "      <td>AVC435</td>\n",
              "      <td>CAV559</td>\n",
              "      <td>NCIR556</td>\n",
              "      <td>Cirurgia 4</td>\n",
              "      <td>S</td>\n",
              "      <td>CID618</td>\n",
              "      <td>CID 4</td>\n",
              "      <td>ESP219</td>\n",
              "      <td>...</td>\n",
              "      <td>ESPM116</td>\n",
              "      <td>Especie Mestre 4</td>\n",
              "      <td>CLAM249</td>\n",
              "      <td>Classe Mestre 4</td>\n",
              "      <td>SUBCLAM779</td>\n",
              "      <td>Subclasse Mestre 4</td>\n",
              "      <td>2020-03-12</td>\n",
              "      <td>22</td>\n",
              "      <td>2020</td>\n",
              "      <td>2022-01</td>\n",
              "    </tr>\n",
              "  </tbody>\n",
              "</table>\n",
              "<p>5 rows × 32 columns</p>\n",
              "</div>"
            ],
            "text/plain": [
              "  CD_CONVENIO NM_CONVENIO CD_AVISO_CIRURGIA CD_CIRURGIA_AVISO  \\\n",
              "0      COV379  Convenio 0            AVC776            CAV731   \n",
              "1      COV839  Convenio 1            AVC517            CAV970   \n",
              "2      COV828  Convenio 2            AVC618            CAV197   \n",
              "3      COV536  Convenio 3            AVC669            CAV467   \n",
              "4      COV607  Convenio 4            AVC435            CAV559   \n",
              "\n",
              "  NOVO_CD_CIRURGIA DS_CIRURGIA SN_PRINCIPAL  CD_CID DS_CID  \\\n",
              "0          NCIR412  Cirurgia 0            S  CID994  CID 0   \n",
              "1          NCIR382  Cirurgia 1            N  CID787  CID 1   \n",
              "2          NCIR866  Cirurgia 2            S  CID549  CID 2   \n",
              "3          NCIR744  Cirurgia 3            N  CID511  CID 3   \n",
              "4          NCIR556  Cirurgia 4            S  CID618  CID 4   \n",
              "\n",
              "  NOVO_CD_ESPECIALIDADE  ... NOVO_CD_ESPECIE_MESTRE DS_ESPECIE_MESTRE  \\\n",
              "0                ESP371  ...                ESPM584  Especie Mestre 0   \n",
              "1                ESP885  ...                ESPM375  Especie Mestre 1   \n",
              "2                ESP522  ...                ESPM206  Especie Mestre 2   \n",
              "3                ESP187  ...                ESPM214  Especie Mestre 3   \n",
              "4                ESP219  ...                ESPM116  Especie Mestre 4   \n",
              "\n",
              "  NOVO_CD_CLASSE_MESTRE DS_CLASSE_MESTRE NOVO_CD_SUB_CLA_MESTRE  \\\n",
              "0               CLAM988  Classe Mestre 0             SUBCLAM925   \n",
              "1               CLAM629  Classe Mestre 1             SUBCLAM933   \n",
              "2               CLAM158  Classe Mestre 2             SUBCLAM356   \n",
              "3               CLAM380  Classe Mestre 3             SUBCLAM179   \n",
              "4               CLAM249  Classe Mestre 4             SUBCLAM779   \n",
              "\n",
              "    DS_SUB_CLA_MESTRE DT_REALIZACAO QT_MOVIMENTACAO ANO_REALIZACAO  \\\n",
              "0  Subclasse Mestre 0    2020-08-01              47           2024   \n",
              "1  Subclasse Mestre 1    2020-07-13               9           2020   \n",
              "2  Subclasse Mestre 2    2022-01-11              23           2022   \n",
              "3  Subclasse Mestre 3    2023-06-27              85           2022   \n",
              "4  Subclasse Mestre 4    2020-03-12              22           2020   \n",
              "\n",
              "  ANO_MES_REALIZACAO  \n",
              "0            2024-01  \n",
              "1            2024-05  \n",
              "2            2022-04  \n",
              "3            2024-07  \n",
              "4            2022-01  \n",
              "\n",
              "[5 rows x 32 columns]"
            ]
          },
          "execution_count": 4,
          "metadata": {},
          "output_type": "execute_result"
        }
      ],
      "source": [
        "dt.head()"
      ]
    },
    {
      "cell_type": "code",
      "execution_count": 6,
      "metadata": {
        "id": "RH0-cmqe-5vF"
      },
      "outputs": [],
      "source": [
        "dt.dropna(subset= 'DS_CID', inplace=True)"
      ]
    },
    {
      "cell_type": "markdown",
      "metadata": {},
      "source": [
        "### Algoritmo para selecionar as colunas utilizadas para fazer a montagem dos Kits bem como calcular as frequências de utilização dos itens, o qual é importante no momento da elaboração do Kit"
      ]
    },
    {
      "cell_type": "code",
      "execution_count": 7,
      "metadata": {
        "colab": {
          "base_uri": "https://localhost:8080/",
          "height": 521
        },
        "id": "qmAh8R4nGMsV",
        "outputId": "3457e20d-13d5-4274-88c6-eab77854c3cf"
      },
      "outputs": [],
      "source": [
        "columns = ['DS_CIRURGIA', 'DS_PRODUTO_MESTRE', 'CD_AVISO_CIRURGIA','DS_ESPECIE', 'DS_CLASSE']\n",
        "df = dt[columns].groupby(['DS_CIRURGIA', 'DS_PRODUTO_MESTRE','DS_ESPECIE', 'DS_CLASSE']).agg(\n",
        "    freq_m = pd.NamedAgg(column = 'CD_AVISO_CIRURGIA', aggfunc = pd.Series.nunique)).sort_values(by='freq_m', ascending = False).reset_index()\n",
        "\n",
        "freqs = dt.groupby('DS_CIRURGIA')['CD_AVISO_CIRURGIA'].nunique()\n",
        "freqs_dict = freqs.to_dict()\n",
        "\n",
        "columns = ['DS_CIRURGIA', 'NOVO_CD_CIRURGIA','NOVO_CD_PRODUTO_MESTRE','DS_PRODUTO_MESTRE','DS_CID','DS_PRODUTO',\n",
        "           'DS_UNIDADE_REFERENCIA','DS_ESPECIALID','CD_AVISO_CIRURGIA','QT_MOVIMENTACAO', 'DS_CLASSE', 'ANO_MES_REALIZACAO']\n",
        "dt_selected = dt[columns]\n",
        "\n",
        "agg_funcs = {\n",
        "    'QT_MOVIMENTACAO': ['min', 'max', 'mean', 'median', 'std'],\n",
        "    'CD_AVISO_CIRURGIA': pd.Series.nunique\n",
        "}\n",
        "statistics = dt_selected.groupby(['DS_CIRURGIA', 'NOVO_CD_CIRURGIA','CD_AVISO_CIRURGIA','NOVO_CD_PRODUTO_MESTRE',\n",
        "                                  'DS_CID','DS_PRODUTO_MESTRE','DS_PRODUTO','DS_UNIDADE_REFERENCIA', 'DS_ESPECIALID', 'ANO_MES_REALIZACAO']).agg(agg_funcs)\n",
        "statistics.columns = ['min', 'max', 'mean', 'median', 'std', 'freq_prod']  \n",
        "statistics = statistics.sort_values(by='freq_prod', ascending=False).reset_index()\n",
        "statistics['freq_prod%'] = statistics['freq_prod'] / statistics['DS_CIRURGIA'].map(freqs_dict)\n",
        "statistics['srd'] = statistics['std'].fillna(0)\n",
        "statistics['qt'] = statistics['median'] + round(statistics['std'])\n",
        "statistics['qt'] = statistics[['max', 'qt']].min(axis=1)\n",
        "\n",
        "aux = pd.merge(statistics, df, on=['DS_CIRURGIA', 'DS_PRODUTO_MESTRE'], how='left')\n",
        "aux['freq_m%'] = aux['freq_m'] / aux['DS_CIRURGIA'].map(freqs_dict)\n",
        "aux.sort_values(by='freq_m%', inplace=True)"
      ]
    },
    {
      "cell_type": "markdown",
      "metadata": {
        "id": "5qtkkWDO-5vM"
      },
      "source": [
        "## Funções para encontrar o Kit Base"
      ]
    },
    {
      "cell_type": "markdown",
      "metadata": {
        "id": "2oARr11-YaX6"
      },
      "source": [
        "#### Funções para verificar similaridade entre Produtos Mestre e Classes"
      ]
    },
    {
      "cell_type": "code",
      "execution_count": 29,
      "metadata": {
        "id": "3yQS2k3s-5vM"
      },
      "outputs": [],
      "source": [
        "def similarityProd(df, cid):\n",
        "\n",
        "    tmp = df.loc[(df['DS_CID'] == cid), ['DS_PRODUTO_MESTRE']]\n",
        "    k1 = tmp['DS_PRODUTO_MESTRE'].nunique()\n",
        "\n",
        "    k2 = df['DS_PRODUTO_MESTRE'].nunique()\n",
        "\n",
        "    inter = pd.merge(df, tmp, how='inner', on= 'DS_PRODUTO_MESTRE')\n",
        "    intersection = inter['DS_PRODUTO_MESTRE'].nunique()\n",
        "\n",
        "    if k1 > k2:\n",
        "        result = intersection/k1\n",
        "        return result\n",
        "    else:\n",
        "        result = intersection/k2\n",
        "        return result"
      ]
    },
    {
      "cell_type": "code",
      "execution_count": 30,
      "metadata": {
        "id": "BpgbtPgX-5vM"
      },
      "outputs": [],
      "source": [
        "def similarityClass(df, cid):\n",
        "\n",
        "    tmp = df.loc[(df['DS_CID'] == cid), ['DS_CLASSE']]\n",
        "    k1 = tmp['DS_CLASSE'].nunique()\n",
        "\n",
        "    k2 = df['DS_CLASSE'].nunique()\n",
        "\n",
        "    inter = pd.merge(df, tmp, how='inner', on= 'DS_CLASSE')\n",
        "    intersection = inter['DS_CLASSE'].nunique()\n",
        "\n",
        "    if k1 > k2:\n",
        "        result = intersection/k1\n",
        "        return result\n",
        "    else:\n",
        "        result = intersection/k2\n",
        "        return result"
      ]
    },
    {
      "cell_type": "markdown",
      "metadata": {
        "id": "z4L-_Ux8Yqh5"
      },
      "source": [
        "#### Funções que geram os pontos, fazem o agrupamento e geram os dados para o K-Means"
      ]
    },
    {
      "cell_type": "code",
      "execution_count": 31,
      "metadata": {
        "id": "_Wz3JuTw-5vM"
      },
      "outputs": [],
      "source": [
        "def kmeansData(df):\n",
        "    data = {\n",
        "        \"kitCid\": [],\n",
        "        \"prodSimilarity\": [],\n",
        "        \"classSimilarity\": [],\n",
        "    }\n",
        "\n",
        "    columnCID = df['DS_CID'].drop_duplicates()\n",
        "    colunaCID = columnCID.to_numpy()\n",
        "\n",
        "    dt = pd.DataFrame(data)\n",
        "\n",
        "    for i in range(len(df['DS_CID'].unique())):\n",
        "        cid = colunaCID[i]\n",
        "        x = similarityProd(df, cid)\n",
        "        y = similarityClass(df, cid)\n",
        "\n",
        "        dt.loc[i] = [cid, x, y]\n",
        "\n",
        "    return dt"
      ]
    },
    {
      "cell_type": "code",
      "execution_count": 32,
      "metadata": {
        "id": "AC8xPp2r-5vM"
      },
      "outputs": [],
      "source": [
        "def kmeansGraph(df):\n",
        "    data = kmeansData(df)\n",
        "\n",
        "    inertias = []\n",
        "    wcss = []\n",
        "    distances = []\n",
        "\n",
        "    for k in range(2,10):\n",
        "        kmeans = KMeans(n_clusters=k, n_init='auto', random_state=42)\n",
        "        kmeans.fit(data[['prodSimilarity','classSimilarity']])\n",
        "\n",
        "        wcss.append(kmeans.inertia_)\n",
        "\n",
        "    x1, y1 = 2, wcss[0]\n",
        "    x2, y2 = 10, wcss[len(wcss) - 1]\n",
        "\n",
        "    for i in range(len(wcss)):\n",
        "        x0 = i + 2\n",
        "        y0 = wcss[i]\n",
        "        numerator = abs((y2 - y1) * x0 - (x2 - x1) * y0 + x2 * y1 - y2 * x1)\n",
        "        denominator = math.sqrt((y2 -y1)**2 + (x2 - x1)**2)\n",
        "\n",
        "        distances.append(numerator/denominator)\n",
        "\n",
        "    numCluster = distances.index(max(distances)) + 2\n",
        "\n",
        "    kmeans = KMeans(n_clusters=numCluster, n_init='auto', random_state=42)\n",
        "    kmeans.fit(data[['prodSimilarity','classSimilarity']])\n",
        "\n",
        "    data['cidGrupo'] = kmeans.labels_\n",
        "\n",
        "    fig = px.scatter(data, x = 'prodSimilarity', y = 'classSimilarity', color='cidGrupo', hover_data={'cidGrupo':True, 'kitCid':True})\n",
        "\n",
        "    return(fig.show())"
      ]
    },
    {
      "cell_type": "code",
      "execution_count": 33,
      "metadata": {
        "id": "cpwRsKnd8_Kn"
      },
      "outputs": [],
      "source": [
        "def kmeansGraphPlot(df):\n",
        "    data = kmeansData(df)\n",
        "\n",
        "    fig = px.scatter(data, x = 'prodSimilarity', y = 'classSimilarity')\n",
        "\n",
        "    return(fig.show())"
      ]
    },
    {
      "cell_type": "markdown",
      "metadata": {
        "id": "0dtfOWM5ZSPx"
      },
      "source": [
        "#### Funções para fazer as análises dos textos e retornar parte das quantidades dos itens"
      ]
    },
    {
      "cell_type": "markdown",
      "metadata": {},
      "source": [
        "##### Essas funções funcionam da seguinte forma, dado um medicamento, por exemplo,presente na lista de itens do kit, é extraído a quantidade descrita nele e multiplica-se pela quantidade de frascos que seriam necessários daquele item e tem-se a quantidade total, exemplificando, poderia ter na lista \"dipirona 1mg/ml 5ml\" sendo preciso 3 frascos, então para aquela situação utiliza-se 15ml, isso foi feito porque no momento da montagem do kit nem sempre estarão disponíveis apenas itens de embalagens de tamanhos iguais, então com a informação do total torna-se mais fácil"
      ]
    },
    {
      "cell_type": "code",
      "execution_count": 34,
      "metadata": {
        "id": "VjrhijkcP_rk"
      },
      "outputs": [],
      "source": [
        "def geraTuplas(produto):\n",
        "\n",
        "  formato = r'(\\d+(\\.\\d+)?)\\s*([A-Za-z]+)(?:/([A-Za-z]+))?'\n",
        "  a = re.findall(formato, produto)\n",
        "\n",
        "  output = [(valor, unidade1+'/'+unidade2 if unidade2 else unidade1)\n",
        "          for valor, _, unidade1, unidade2 in a]\n",
        "  return output"
      ]
    },
    {
      "cell_type": "code",
      "execution_count": 35,
      "metadata": {
        "id": "Cxl5XGY0XKGm"
      },
      "outputs": [],
      "source": [
        "def geraQuantidades(df):\n",
        "    df['DS_PRODUTO_MESTRE'] = df['DS_PRODUTO_MESTRE'].apply(lambda x: re.sub(r'(\\d+),(\\d+)', r'\\1.\\2', x))\n",
        "\n",
        "    df['qt_parcial'] = 1\n",
        "    df['unidade_texto'] = df['unit']\n",
        "\n",
        "    for idx, row in df.iterrows():\n",
        "        if row['DS_ESPECIE'] == 'MATERIAIS HOSPITALARES':\n",
        "            continue\n",
        "\n",
        "        produto = row['DS_PRODUTO_MESTRE']\n",
        "        vet = geraTuplas(produto)\n",
        "\n",
        "        if not vet:\n",
        "            continue\n",
        "\n",
        "        vet_filtrado = [tup for tup in vet if '/' not in tup[1]]\n",
        "        if len(vet_filtrado) == 1:\n",
        "            valor, unit = vet_filtrado[0]\n",
        "            df.at[idx, 'qt_parcial'] = float(valor)\n",
        "            df.at[idx, 'unidade_texto'] = unit\n",
        "    \n",
        "    df['qt_parcial'] = df['qt_parcial'].astype(float)\n",
        "    df['Quant_final'] = df['qt_parcial'] * df['quant']\n",
        "\n",
        "    df = df.iloc[:, [0, 1, 2, 3, 4, 6, 5]]\n",
        "\n",
        "    return df"
      ]
    },
    {
      "cell_type": "markdown",
      "metadata": {
        "id": "OTxIJtIka34i"
      },
      "source": [
        "#### Funções para definir os kits base,ou seja, os kits finais"
      ]
    },
    {
      "cell_type": "markdown",
      "metadata": {},
      "source": [
        "##### Essas funções utilizam do algoritmo de agrupamento K-Means para montar os grupos de doenças que possuem similaridade com relação a configuração dos seus Kits, feito os grupos, cada um deles representará um kit para aquele procedimento cirúrgico"
      ]
    },
    {
      "cell_type": "code",
      "execution_count": 36,
      "metadata": {
        "id": "x-kcqiwCGI7l"
      },
      "outputs": [],
      "source": [
        "def baseKit(df, list):\n",
        "    i = 0\n",
        "    dataframes = []\n",
        "    v = list['kitCid'].drop_duplicates()\n",
        "    v = v.to_numpy()\n",
        "\n",
        "    while(i < len(v)):\n",
        "        aux = v[i]\n",
        "\n",
        "        dt = df.loc[(df['DS_CID'] == aux), ['DS_PRODUTO_MESTRE']]\n",
        "        dataframes.append(dt)\n",
        "        i += 1\n",
        "\n",
        "    L = [pd.DataFrame(np.sort(x.values, axis=1), columns=x.columns).drop_duplicates() for x in dataframes]\n",
        "    dfBase = reduce(lambda left, right: pd.merge(left,right), L)\n",
        "\n",
        "    prev_kit = pd.merge(df, dfBase, how='inner', on = 'DS_PRODUTO_MESTRE')\n",
        "\n",
        "    prev_kit = prev_kit.groupby(['DS_PRODUTO_MESTRE', 'DS_UNIDADE_REFERENCIA', 'DS_ESPECIE'])['qt'].min().reset_index()\n",
        "    prev_kit['Qt'] = prev_kit['qt']\n",
        "\n",
        "    kit = {'DS_PRODUTO_MESTRE': prev_kit['DS_PRODUTO_MESTRE'].to_list(),\n",
        "           'quant': np.around(prev_kit['Qt'],1).to_list(),\n",
        "           'unit': prev_kit['DS_UNIDADE_REFERENCIA'].to_list(),\n",
        "           'DS_ESPECIE': prev_kit['DS_ESPECIE'].to_list()}\n",
        "\n",
        "    kit = pd.DataFrame(kit)\n",
        "\n",
        "    kit = geraQuantidades(kit)\n",
        "\n",
        "    return kit"
      ]
    },
    {
      "cell_type": "code",
      "execution_count": 37,
      "metadata": {
        "id": "frnfI9Ap-5vN"
      },
      "outputs": [],
      "source": [
        "def finalKit(df, cid):\n",
        "    data = kmeansData(df)\n",
        "\n",
        "    wcss = []\n",
        "    distances = []\n",
        "\n",
        "    for k in range(2,10):\n",
        "        kmeans = KMeans(n_clusters=k, n_init='auto', random_state=42)\n",
        "        kmeans.fit(data[['prodSimilarity','classSimilarity']])\n",
        "\n",
        "        wcss.append(kmeans.inertia_)\n",
        "\n",
        "    x1, y1 = 2, wcss[0]\n",
        "    x2, y2 = 20, wcss[len(wcss) - 1]\n",
        "\n",
        "    for i in range(len(wcss)):\n",
        "        x0 = i + 2\n",
        "        y0 = wcss[i]\n",
        "        numerator = abs((y2 - y1) * x0 - (x2 - x1) * y0 + x2 * y1 - y2 * x1)\n",
        "        denominator = math.sqrt((y2 -y1)**2 + (x2 - x1)**2)\n",
        "\n",
        "        distances.append(numerator/denominator)\n",
        "\n",
        "    numCluster = distances.index(max(distances)) + 2\n",
        "\n",
        "    kmeans = KMeans(n_clusters=numCluster, n_init='auto', random_state=42)\n",
        "    kmeans.fit(data[['prodSimilarity','classSimilarity']])\n",
        "\n",
        "    data['cidGrupo'] = kmeans.labels_\n",
        "\n",
        "    tmp1 = data.loc[(data['kitCid'] == cid)]\n",
        "    tmp2 = tmp1['cidGrupo']\n",
        "\n",
        "    list = data.loc[(data['cidGrupo'] == tmp2.iloc[0])]\n",
        "\n",
        "    res = baseKit(df, list)\n",
        "    data['cidGrupo'] = data['cidGrupo'].astype(str)\n",
        "    fig = px.scatter(data, x='prodSimilarity', y='classSimilarity', color='cidGrupo',\n",
        "                 hover_data={'cidGrupo': True, 'kitCid': True},\n",
        "                 category_orders={'cidGrupo': data['cidGrupo'].unique().tolist()})\n",
        "    fig.update_layout(legend_title_font_size=18, legend_font_size=18)\n",
        "    fig.show()\n",
        "\n",
        "    return res"
      ]
    },
    {
      "cell_type": "markdown",
      "metadata": {},
      "source": [
        "## Invertendo o CID pelo procedimento cirúrgico"
      ]
    },
    {
      "cell_type": "markdown",
      "metadata": {
        "id": "xrkwJMC5-5vQ"
      },
      "source": [
        "### Essas funções são as mesmas das descritas anteriormente, a única diferença é a troca do procedimento pelo CID, e vice versa"
      ]
    },
    {
      "cell_type": "code",
      "execution_count": null,
      "metadata": {
        "id": "qxQ562Fc-5vR"
      },
      "outputs": [],
      "source": [
        "def similarityProdCid(df, cir):\n",
        "\n",
        "    tmp = df.loc[(df['DS_CIRURGIA'] == cir), ['DS_PRODUTO_MESTRE']]\n",
        "    k1 = tmp['DS_PRODUTO_MESTRE'].nunique()\n",
        "\n",
        "    k2 = df['DS_PRODUTO_MESTRE'].nunique()\n",
        "\n",
        "    inter = pd.merge(df, tmp, how='inner', on= 'DS_PRODUTO_MESTRE')\n",
        "    intersection = inter['DS_PRODUTO_MESTRE'].nunique()\n",
        "\n",
        "    if k1 > k2:\n",
        "        result = intersection/k1\n",
        "        return result\n",
        "    else:\n",
        "        result = intersection/k2\n",
        "        return result"
      ]
    },
    {
      "cell_type": "code",
      "execution_count": null,
      "metadata": {
        "id": "hVJXWjdg-5vS"
      },
      "outputs": [],
      "source": [
        "def similarityClassCid(df, cir):\n",
        "\n",
        "    tmp = df.loc[(df['DS_CIRURGIA'] == cir), ['DS_CLASSE']]\n",
        "    k1 = tmp['DS_CLASSE'].nunique()\n",
        "\n",
        "    k2 = df['DS_CLASSE'].nunique()\n",
        "\n",
        "    inter = pd.merge(df, tmp, how='inner', on= 'DS_CLASSE')\n",
        "    intersection = inter['DS_CLASSE'].nunique()\n",
        "\n",
        "    if k1 > k2:\n",
        "        result = intersection/k1\n",
        "        return result\n",
        "    else:\n",
        "        result = intersection/k2\n",
        "        return result"
      ]
    },
    {
      "cell_type": "code",
      "execution_count": null,
      "metadata": {
        "id": "FhLzG4ww-5vS"
      },
      "outputs": [],
      "source": [
        "def kmeansDataCid(df):\n",
        "    data = {\n",
        "        \"kitCir\": [],\n",
        "        \"prodSimilarity\": [],\n",
        "        \"classSimilarity\": [],\n",
        "    }\n",
        "\n",
        "    columnCIR = df['DS_CIRURGIA'].drop_duplicates()\n",
        "    colunaCIR = columnCIR.to_numpy()\n",
        "\n",
        "    dt = pd.DataFrame(data)\n",
        "\n",
        "    for i in range(len(df['DS_CIRURGIA'].unique())):\n",
        "        cir = colunaCIR[i]\n",
        "        x = similarityProdCid(df, cir)\n",
        "        y = similarityClassCid(df, cir)\n",
        "\n",
        "        dt.loc[i] = [cir, x, y]\n",
        "\n",
        "    return dt"
      ]
    },
    {
      "cell_type": "code",
      "execution_count": null,
      "metadata": {
        "id": "60k2Jgod-5vS"
      },
      "outputs": [],
      "source": [
        "def kmeansGraphCid(df):\n",
        "    data = kmeansDataCid(df)\n",
        "\n",
        "    wcss = []\n",
        "    distances = []\n",
        "\n",
        "    for k in range(2,10):\n",
        "        kmeans = KMeans(n_clusters=k, n_init='auto', random_state=42)\n",
        "        kmeans.fit(data[['prodSimilarity','classSimilarity']])\n",
        "\n",
        "        wcss.append(kmeans.inertia_)\n",
        "\n",
        "    x1, y1 = 2, wcss[0]\n",
        "    x2, y2 = 20, wcss[len(wcss) - 1]\n",
        "\n",
        "    for i in range(len(wcss)):\n",
        "        x0 = i + 2\n",
        "        y0 = wcss[i]\n",
        "        numerator = abs((y2 - y1) * x0 - (x2 - x1) * y0 + x2 * y1 - y2 * x1)\n",
        "        denominator = math.sqrt((y2 -y1)**2 + (x2 - x1)**2)\n",
        "\n",
        "        distances.append(numerator/denominator)\n",
        "\n",
        "    numCluster = distances.index(max(distances)) + 2\n",
        "\n",
        "    kmeans = KMeans(n_clusters=numCluster, n_init='auto')\n",
        "    kmeans.fit(data[['prodSimilarity','classSimilarity']])\n",
        "\n",
        "    data['cirGrupo'] = kmeans.labels_\n",
        "\n",
        "    fig = px.scatter(data, x = 'prodSimilarity', y = 'classSimilarity',\n",
        "                     color='cirGrupo',\n",
        "                     hover_data={'cirGrupo':True, 'kitCir':True})\n",
        "\n",
        "    return(fig.show())"
      ]
    },
    {
      "cell_type": "code",
      "execution_count": null,
      "metadata": {
        "id": "TWpMc7aS-5vS"
      },
      "outputs": [],
      "source": [
        "def baseKitCid(df, list):\n",
        "    i = 0\n",
        "    dataframes = []\n",
        "    v = list['kitCir'].drop_duplicates()\n",
        "    v = v.to_numpy()\n",
        "\n",
        "    while(i < len(v)):\n",
        "        aux = v[i]\n",
        "\n",
        "        dt = df.loc[(df['DS_CIRURGIA'] == aux), ['DS_PRODUTO_MESTRE']]\n",
        "        dataframes.append(dt)\n",
        "        i += 1\n",
        "\n",
        "    L = [pd.DataFrame(np.sort(x.values, axis=1), columns=x.columns\n",
        "                      ).drop_duplicates() for x in dataframes]\n",
        "    dfBase = reduce(lambda left, right: pd.merge(left,right), L)\n",
        "\n",
        "    kit = dfBase['DS_PRODUTO_MESTRE']\n",
        "    kit = kit.to_numpy()\n",
        "\n",
        "    return kit"
      ]
    },
    {
      "cell_type": "code",
      "execution_count": null,
      "metadata": {
        "id": "GSh6Kv2i-5vT"
      },
      "outputs": [],
      "source": [
        "def finalKitCid(df, cid):\n",
        "    data = kmeansDataCid(df)\n",
        "\n",
        "    wcss = []\n",
        "    distances = []\n",
        "\n",
        "    for k in range(2,10):\n",
        "        kmeans = KMeans(n_clusters=k, n_init='auto', random_state=42)\n",
        "        kmeans.fit(data[['prodSimilarity','classSimilarity']])\n",
        "\n",
        "        wcss.append(kmeans.inertia_)\n",
        "\n",
        "    x1, y1 = 2, wcss[0]\n",
        "    x2, y2 = 20, wcss[len(wcss) - 1]\n",
        "\n",
        "    for i in range(len(wcss)):\n",
        "        x0 = i + 2\n",
        "        y0 = wcss[i]\n",
        "        numerator = abs((y2 - y1) * x0 - (x2 - x1) * y0 + x2 * y1 - y2 * x1)\n",
        "        denominator = math.sqrt((y2 -y1)**2 + (x2 - x1)**2)\n",
        "\n",
        "        distances.append(numerator/denominator)\n",
        "\n",
        "    numCluster = distances.index(max(distances)) + 2\n",
        "\n",
        "    kmeans = KMeans(n_clusters=numCluster, n_init='auto', random_state=42)\n",
        "    kmeans.fit(data[['prodSimilarity','classSimilarity']])\n",
        "\n",
        "    data['cirGrupo'] = kmeans.labels_\n",
        "\n",
        "    tmp1 = data.loc[(data['kitCir'] == cid)]\n",
        "    tmp2 = tmp1['cirGrupo']\n",
        "\n",
        "    list = data.loc[(data['cirGrupo'] == tmp2.iloc[0])]\n",
        "\n",
        "    res = baseKitCid(df, list)\n",
        "\n",
        "    fig = px.scatter(data, x = 'prodSimilarity', y = 'classSimilarity', color='cirGrupo', hover_data={'cirGrupo':True, 'kitCir':True})\n",
        "    fig.show()\n",
        "\n",
        "    print(res)"
      ]
    },
    {
      "cell_type": "code",
      "execution_count": null,
      "metadata": {
        "colab": {
          "base_uri": "https://localhost:8080/",
          "height": 562
        },
        "id": "gPvOvGT6-5vT",
        "outputId": "48eff037-2765-4210-d7d6-13182ce8d4ef"
      },
      "outputs": [],
      "source": [
        "a = aux['DS_CID'] == 'DOR AGUDA'\n",
        "\n",
        "df = aux.loc[(a)&(aux['freq_m%']>0.1), ['DS_CIRURGIA', 'DS_CLASSE', 'DS_PRODUTO_MESTRE']]\n",
        "\n",
        "kmeansGraphCid(df)"
      ]
    }
  ],
  "metadata": {
    "colab": {
      "collapsed_sections": [
        "2oARr11-YaX6",
        "z4L-_Ux8Yqh5",
        "0dtfOWM5ZSPx",
        "OTxIJtIka34i",
        "7La7GhAD-5vP",
        "HlJRzOIa1nBW"
      ],
      "provenance": []
    },
    "kernelspec": {
      "display_name": "base",
      "language": "python",
      "name": "python3"
    },
    "language_info": {
      "codemirror_mode": {
        "name": "ipython",
        "version": 3
      },
      "file_extension": ".py",
      "mimetype": "text/x-python",
      "name": "python",
      "nbconvert_exporter": "python",
      "pygments_lexer": "ipython3",
      "version": "3.11.3"
    }
  },
  "nbformat": 4,
  "nbformat_minor": 0
}
